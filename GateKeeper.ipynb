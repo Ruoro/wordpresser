{
 "cells": [
  {
   "cell_type": "markdown",
   "metadata": {},
   "source": [
    "# GateKeeper :-)"
   ]
  },
  {
   "cell_type": "markdown",
   "metadata": {},
   "source": [
    "Task 1\n",
    "Approach the Gates\n",
    "\n",
    "other_ip=10.10.128.102\n",
    "ip=10.10.239.100\n",
    "nmap -sC -sV -oA initial_scan 10.10.98.164\n",
    "How many ports open? 10 \n",
    "ports:\n",
    "135/tcp  \n",
    "139/tcp \n",
    "445/tcp  \n",
    "3389/tcp  \n",
    "31337/tcp \n",
    "49152/tcp \n",
    "49153/tcp \n",
    "49154/tcp \n",
    "49160/tcp \n",
    "49161/tcp \n",
    "\n",
    "We should enumerate the client:\n",
    "do an `smbclient -L` scan \n",
    "\n",
    "then we see a user folder\n",
    "\n",
    "`smbclient \\\\\\\\$ip\\\\Users`\n",
    "we get a gatekeeper.exe\n",
    "use get command to download it \n",
    "then host a server in where you download the exe. \n",
    "`python3 -m http.server 8080`\n",
    "\n",
    "then download it on to the windows machine:\n",
    "\n",
    "`certutil -urlcache -f http://10.10.167.132:8080/gatekeeper.exe gatekeeper.exe`\n",
    "\n",
    "Alright we are done with the download. \n",
    "Open it in the immunity debugger \n",
    "\n",
    "`!mona config -set workingfolder c:\\mona\\%p`\n",
    "\n",
    "Now we can try fuzzing to see the number of bytes  it takes to crash the system \n",
    "fuzz.py\n",
    "exploit.py\n",
    "then use the \n",
    "`/opt/metasploit-framework/embedded/framework/tools/exploit/pattern_create.rb -l 500`\n",
    " \n",
    " add that to the payload \n",
    "\n",
    " the app crashes \n",
    "NB: in creating the fuzzing + exploit script we are trying to beat the gatekeaper in the BOF macho=ine so that is the right IP and it always opens a port at 31337\n",
    "\n",
    "we get the offset as 146\n",
    "Off to find the Bad chars. \n",
    "`!mona bytearray -b \"\\x00\"`\n",
    "and `python3 badchars.py`\n",
    "Have to do botha and add the bad chars in the payload\n",
    "\n",
    "\n",
    "Only bad charachter was  \\x0a\n",
    "\n",
    "\n",
    "Task 2\n",
    "Defeat the Gatekeeper and pass through the fire."
   ]
  },
  {
   "cell_type": "markdown",
   "metadata": {},
   "source": []
  }
 ],
 "metadata": {
  "language_info": {
   "name": "python"
  }
 },
 "nbformat": 4,
 "nbformat_minor": 2
}
