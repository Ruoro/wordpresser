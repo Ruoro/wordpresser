{
 "cells": [
  {
   "cell_type": "markdown",
   "metadata": {},
   "source": [
    "# Brainstorm\n"
   ]
  },
  {
   "cell_type": "markdown",
   "metadata": {},
   "source": [
    "\n",
    "### Task 1: Deploy Machine and Scan Network\n",
    "\n",
    "Code used \n",
    "`sudo nmap -sC -A -sS -Pn -sV 10.10.5.178`\n",
    "\n",
    "Deploy the machine: No answer needed\n",
    "\n",
    "How many ports are open?\n",
    "\n",
    "3\n",
    "\n"
   ]
  },
  {
   "cell_type": "markdown",
   "metadata": {},
   "source": []
  },
  {
   "cell_type": "markdown",
   "metadata": {},
   "source": [
    "### Task 2 Accessing files\n",
    "\n",
    "code used\n",
    "``\n",
    "\n",
    "What is the name of the exe file you found?\n",
    "\n",
    "Answer format: **********.***\n",
    "chartserver.exe"
   ]
  },
  {
   "cell_type": "markdown",
   "metadata": {},
   "source": [
    "### Task 3: Access\n",
    "After enumeration, you now must have noticed that the service interacting on the strange port is some how related to the files you found! Is there anyway you can exploit that strange service to gain access to the system? \n",
    "\n",
    "It is worth using a Python script to try out different payloads to gain access! You can even use the files to locally try the exploit. \n",
    "\n",
    "If you've not done buffer overflows before, check this room out!\n",
    "\n",
    "Answer the questions below\n",
    "- Read the description.\n",
    "\n",
    "\n",
    "- After testing for overflow, by entering a large number of characters, determine the EIP offset.\n",
    "\n",
    "\n",
    "- Now you know that you can overflow a buffer and potentially control execution, you need to find a function where ASLR/DEP is not enabled. Why not check the DLL file.\n",
    "\n",
    "\n",
    "- Since this would work, you can try generate some shellcode - use msfvenom to generate shellcode for windows.\n",
    "\n",
    "\n",
    "- After gaining access, what is the content of the root.txt file?\n",
    "\n",
    "Answer format: ********************************\n",
    "5b1001de5a44eca47eee71e7942a8f8a"
   ]
  },
  {
   "cell_type": "markdown",
   "metadata": {},
   "source": []
  }
 ],
 "metadata": {
  "language_info": {
   "name": "python"
  }
 },
 "nbformat": 4,
 "nbformat_minor": 2
}
