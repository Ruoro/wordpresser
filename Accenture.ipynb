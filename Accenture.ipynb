{
 "cells": [
  {
   "cell_type": "markdown",
   "metadata": {},
   "source": [
    "# FORAGE \n",
    "## Accenture Track\n"
   ]
  },
  {
   "cell_type": "markdown",
   "metadata": {},
   "source": []
  },
  {
   "cell_type": "markdown",
   "metadata": {},
   "source": [
    "Here are some key facts about this program:\n",
    "\n",
    "- You are working as a Data Analyst at Accenture.\n",
    "- You work within a larger team, where each member has a different role and level of responsibility.\n",
    "- Your team has been assigned a new project for a client called Social Buzz.\n",
    "- You’re hoping for a promotion at work, and this is an exciting opportunity for you to showcase your data analysis and visualization skills."
   ]
  },
  {
   "cell_type": "markdown",
   "metadata": {},
   "source": [
    "#### Your first task is to read the brief from Social Buzz and complete a short knowledge check before the call."
   ]
  },
  {
   "cell_type": "markdown",
   "metadata": {},
   "source": [
    "The phishing simulation designed in the first task was run last week. So, what’s next?\n",
    "\n",
    "We’ve used some tools to analyze the results and we can see the failure rate of each department - it is clear that some teams appear more likely to fall for a phishing email than others.\n",
    "\n",
    "Now that we have these results, we need to:\n",
    "\n",
    "- identify which areas of the business need more awareness about phishing, and\n",
    "- design and implement the appropriate training for those teams to lower our risk of an attack."
   ]
  }
 ],
 "metadata": {
  "language_info": {
   "name": "python"
  }
 },
 "nbformat": 4,
 "nbformat_minor": 2
}
