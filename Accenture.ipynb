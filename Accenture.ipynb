{
 "cells": [
  {
   "cell_type": "markdown",
   "metadata": {},
   "source": [
    "# FORAGE \n",
    "## Accenture Track\n"
   ]
  },
  {
   "cell_type": "markdown",
   "metadata": {},
   "source": []
  },
  {
   "cell_type": "markdown",
   "metadata": {},
   "source": [
    "Here are some key facts about this program:\n",
    "\n",
    "- You are working as a Data Analyst at Accenture.\n",
    "- You work within a larger team, where each member has a different role and level of responsibility.\n",
    "- Your team has been assigned a new project for a client called Social Buzz.\n",
    "- You’re hoping for a promotion at work, and this is an exciting opportunity for you to showcase your data analysis and visualization skills."
   ]
  },
  {
   "cell_type": "markdown",
   "metadata": {},
   "source": [
    "#### Your first task is to read the brief from Social Buzz and complete a short knowledge check before the call."
   ]
  },
  {
   "cell_type": "markdown",
   "metadata": {},
   "source": [
    "The phishing simulation designed in the first task was run last week. So, what’s next?\n",
    "\n",
    "We’ve used some tools to analyze the results and we can see the failure rate of each department - it is clear that some teams appear more likely to fall for a phishing email than others.\n",
    "\n",
    "Now that we have these results, we need to:\n",
    "\n",
    "- identify which areas of the business need more awareness about phishing, and\n",
    "- design and implement the appropriate training for those teams to lower our risk of an attack."
   ]
  },
  {
   "cell_type": "markdown",
   "metadata": {},
   "source": [
    "Interpret the results\n",
    "First, let’s have a look at the results of the phishing campaign.\n",
    "\n",
    "This table helps you to identify which teams appear to be more likely to fall for a phishing email than others.\n",
    "\n"
   ]
  },
  {
   "cell_type": "markdown",
   "metadata": {},
   "source": [
    "“Why are you interested in this role?”\n",
    "\n",
    "I recently participated in Mastercard's job simulation on the Forage platform,\n",
    "and it was incredibly useful to understand what it might be like to participate\n",
    "on a Security Awareness team at Mastercard.\n",
    "I worked on a project to identify phishing emails and design security awareness\n",
    "training courses. Through this job simulation, I built my skills in\n",
    "problem-solving, data analysis, and data presentation and practiced them in a\n",
    "real-world context.\n",
    "Doing this program confirmed that I really enjoy working in cybersecurity and\n",
    "I'm excited to apply these skills on a Security Awareness team at a company like\n",
    "Mastercard."
   ]
  },
  {
   "cell_type": "markdown",
   "metadata": {},
   "source": [
    "Mastercard Cybersecurity virtual experience program on Forage - October 2024\n",
    "\n",
    " * Completed a job simulation where I served as an analyst on Mastercard’s\n",
    "   Security Awareness Team \n",
    " * Helped identify and report security threats such as phishing \n",
    " * Analyzed and identified which areas of the business needed more robust\n",
    "   security training and implemented training courses and procedures for those\n",
    "   teams"
   ]
  }
 ],
 "metadata": {
  "language_info": {
   "name": "python"
  }
 },
 "nbformat": 4,
 "nbformat_minor": 2
}
