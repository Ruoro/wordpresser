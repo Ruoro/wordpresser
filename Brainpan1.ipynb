{
 "cells": [
  {
   "cell_type": "markdown",
   "metadata": {},
   "source": [
    "# BrainPan 1\n",
    "\n",
    "Brainpan is perfect for OSCP practice and has been highly recommended to complete before the exam. Exploit a buffer overflow vulnerability by analyzing a Windows executable on a Linux machine. If you get stuck on this machine, don't give up (or look at writeups), just try harder. \n",
    "\n"
   ]
  },
  {
   "cell_type": "markdown",
   "metadata": {},
   "source": [
    "Opened machine with immunity debugger\n",
    "other_ip=10.10.24.31\n",
    "our ip=10.10.56.100\n",
    "\n",
    "we first do an Nmap scan \n",
    "`nmap -sC -sV -o brainpan1 $ip`\n",
    "we see there are 2 ports open \n",
    "port 9999 - use nc (Buffer Overflow exploit)\n",
    "port 10000 - Webpage \n",
    "\n",
    "we start by exploring the port 10000 with nikto.\n",
    "\n",
    "`nikto -h http://$ip:10000/`\n",
    "\n",
    "with this scan we foind a /bin directory that could be interesting.\n",
    "in the /bin directory we find the brainpan.exe \n",
    "we download the exe and load it up on the immunity debugger \n",
    "we then run `strings brainpan.exe` and find the passsword 'shitstorm'\n",
    "\n",
    "phase 2 : BOF\n",
    "lets get to the buffer overflow. we write a fuzzing script to see how many bytes it takes to crash the service. \n",
    "fizzer.py\n",
    "the Fuzzer shows 600 bytes \n",
    "we create a pattern with metaspoloit for 800\n",
    "``\n",
    "create the exploit.py\n",
    "run the exploit\n",
    "\n",
    "we then check the offset with the patten offset using the value of the EIP after the app crashes. \n",
    "offset 524\n",
    "\n",
    "we then have to look for bad characters. \n",
    "in this instance we  crete a bytearray.bin on mona and also create a python bad chars script\n",
    "\n"
   ]
  }
 ],
 "metadata": {
  "language_info": {
   "name": "python"
  }
 },
 "nbformat": 4,
 "nbformat_minor": 2
}
